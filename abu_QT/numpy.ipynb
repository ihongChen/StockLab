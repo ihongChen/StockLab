{
 "cells": [
  {
   "cell_type": "markdown",
   "metadata": {},
   "source": [
    "# Numpy 玩耍"
   ]
  },
  {
   "cell_type": "code",
   "execution_count": 1,
   "metadata": {
    "collapsed": true
   },
   "outputs": [],
   "source": [
    "import numpy as np "
   ]
  },
  {
   "cell_type": "code",
   "execution_count": 2,
   "metadata": {
    "collapsed": false
   },
   "outputs": [
    {
     "name": "stdout",
     "output_type": "stream",
     "text": [
      "1000 loops, best of 3: 493 µs per loop\n"
     ]
    }
   ],
   "source": [
    "normal_lst = range(1000)\n",
    "%timeit [i**2 for i in normal_lst]"
   ]
  },
  {
   "cell_type": "code",
   "execution_count": 3,
   "metadata": {
    "collapsed": false
   },
   "outputs": [
    {
     "name": "stdout",
     "output_type": "stream",
     "text": [
      "The slowest run took 14.52 times longer than the fastest. This could mean that an intermediate result is being cached.\n",
      "100000 loops, best of 3: 2.31 µs per loop\n"
     ]
    }
   ],
   "source": [
    "np_lst = np.arange(1000)\n",
    "%timeit np_lst**2"
   ]
  },
  {
   "cell_type": "code",
   "execution_count": 6,
   "metadata": {
    "collapsed": true
   },
   "outputs": [],
   "source": [
    "np_lst = np.ones(5)*3"
   ]
  },
  {
   "cell_type": "code",
   "execution_count": 8,
   "metadata": {
    "collapsed": false
   },
   "outputs": [
    {
     "name": "stdout",
     "output_type": "stream",
     "text": [
      "[1, 1, 1, 1, 1, 1, 1, 1, 1, 1, 1, 1] 12\n"
     ]
    }
   ],
   "source": [
    "normal_lst = [1,1,1,1,]*3\n",
    "print(normal_lst, len(normal_lst))"
   ]
  },
  {
   "cell_type": "code",
   "execution_count": 9,
   "metadata": {
    "collapsed": false
   },
   "outputs": [
    {
     "data": {
      "text/plain": [
       "array([ 0.,  0.,  0.])"
      ]
     },
     "execution_count": 9,
     "metadata": {},
     "output_type": "execute_result"
    }
   ],
   "source": [
    "np.zeros(3)"
   ]
  },
  {
   "cell_type": "code",
   "execution_count": 10,
   "metadata": {
    "collapsed": false
   },
   "outputs": [
    {
     "data": {
      "text/plain": [
       "array([[ 0.,  0.],\n",
       "       [ 0.,  0.],\n",
       "       [ 0.,  0.]])"
      ]
     },
     "execution_count": 10,
     "metadata": {},
     "output_type": "execute_result"
    }
   ],
   "source": [
    "np.zeros((3,2))"
   ]
  },
  {
   "cell_type": "code",
   "execution_count": 11,
   "metadata": {
    "collapsed": false
   },
   "outputs": [
    {
     "data": {
      "text/plain": [
       "array([[ 1.,  1.],\n",
       "       [ 1.,  1.],\n",
       "       [ 1.,  1.]])"
      ]
     },
     "execution_count": 11,
     "metadata": {},
     "output_type": "execute_result"
    }
   ],
   "source": [
    "np.ones((3,2))"
   ]
  },
  {
   "cell_type": "code",
   "execution_count": 12,
   "metadata": {
    "collapsed": false
   },
   "outputs": [
    {
     "data": {
      "text/plain": [
       "array([[[  6.23042070e-307,   3.56043053e-307,   1.60219306e-306],\n",
       "        [  2.44763557e-307,   1.69119330e-306,   7.56599807e-307],\n",
       "        [  8.90104239e-307,   1.24610383e-306,   1.69118108e-306]],\n",
       "\n",
       "       [[  8.06632139e-308,   1.20160711e-306,   1.69119330e-306],\n",
       "        [  1.29062229e-306,   1.24610383e-306,   1.24610723e-306],\n",
       "        [  6.89805151e-307,   1.78020169e-306,   1.42410974e-306]]])"
      ]
     },
     "execution_count": 12,
     "metadata": {},
     "output_type": "execute_result"
    }
   ],
   "source": [
    "np.empty((2,3,3))"
   ]
  },
  {
   "cell_type": "code",
   "execution_count": 14,
   "metadata": {
    "collapsed": false
   },
   "outputs": [
    {
     "data": {
      "text/plain": [
       "array([ 1.,  1.,  1.,  1.,  1.])"
      ]
     },
     "execution_count": 14,
     "metadata": {},
     "output_type": "execute_result"
    }
   ],
   "source": [
    "np.ones_like(np_lst)"
   ]
  },
  {
   "cell_type": "code",
   "execution_count": 15,
   "metadata": {
    "collapsed": false
   },
   "outputs": [
    {
     "data": {
      "text/plain": [
       "array([ 0.,  0.,  0.,  0.,  0.])"
      ]
     },
     "execution_count": 15,
     "metadata": {},
     "output_type": "execute_result"
    }
   ],
   "source": [
    "np.zeros_like(np_lst)"
   ]
  },
  {
   "cell_type": "code",
   "execution_count": 16,
   "metadata": {
    "collapsed": false
   },
   "outputs": [
    {
     "data": {
      "text/plain": [
       "array([ 0.        ,  0.11111111,  0.22222222,  0.33333333,  0.44444444,\n",
       "        0.55555556,  0.66666667,  0.77777778,  0.88888889,  1.        ])"
      ]
     },
     "execution_count": 16,
     "metadata": {},
     "output_type": "execute_result"
    }
   ],
   "source": [
    "np.linspace(0,1,10)"
   ]
  },
  {
   "cell_type": "code",
   "execution_count": 17,
   "metadata": {
    "collapsed": true
   },
   "outputs": [],
   "source": [
    "stock_cnt = 200\n",
    "view_days = 504\n",
    "stock_day_change = np.random.standard_normal((stock_cnt,view_days))"
   ]
  },
  {
   "cell_type": "code",
   "execution_count": 21,
   "metadata": {
    "collapsed": false
   },
   "outputs": [
    {
     "name": "stdout",
     "output_type": "stream",
     "text": [
      "(200, 504)\n"
     ]
    }
   ],
   "source": [
    "print(stock_day_change.shape)"
   ]
  },
  {
   "cell_type": "code",
   "execution_count": 22,
   "metadata": {
    "collapsed": false
   },
   "outputs": [
    {
     "data": {
      "text/plain": [
       "array([[ 1.38,  0.18,  0.21, -0.54, -0.11],\n",
       "       [-0.41, -1.2 , -0.1 , -1.51,  0.12]])"
      ]
     },
     "execution_count": 22,
     "metadata": {},
     "output_type": "execute_result"
    }
   ],
   "source": [
    "np.around(stock_day_change[:2,:5], 2)"
   ]
  },
  {
   "cell_type": "code",
   "execution_count": 23,
   "metadata": {
    "collapsed": true
   },
   "outputs": [],
   "source": [
    "tmp_test = stock_day_change[:2,:5].copy()\n",
    "tmp_test[0][0] = np.nan"
   ]
  },
  {
   "cell_type": "code",
   "execution_count": 24,
   "metadata": {
    "collapsed": false
   },
   "outputs": [
    {
     "data": {
      "text/plain": [
       "array([[        nan,  0.18058772,  0.21211613, -0.5359009 , -0.11450511],\n",
       "       [-0.41155034, -1.19898536, -0.09969371, -1.50525033,  0.12189656]])"
      ]
     },
     "execution_count": 24,
     "metadata": {},
     "output_type": "execute_result"
    }
   ],
   "source": [
    "tmp_test"
   ]
  },
  {
   "cell_type": "code",
   "execution_count": 27,
   "metadata": {
    "collapsed": true
   },
   "outputs": [],
   "source": [
    "mask = stock_day_change[:2,:5] >0.5"
   ]
  },
  {
   "cell_type": "code",
   "execution_count": 28,
   "metadata": {
    "collapsed": false
   },
   "outputs": [
    {
     "name": "stdout",
     "output_type": "stream",
     "text": [
      "[[ True False False False False]\n",
      " [False False False False False]]\n"
     ]
    }
   ],
   "source": [
    "print(mask)"
   ]
  },
  {
   "cell_type": "code",
   "execution_count": 34,
   "metadata": {
    "collapsed": false
   },
   "outputs": [
    {
     "data": {
      "text/plain": [
       "array([ 1.42136492,  1.10979337,  1.24257737, -1.68384141])"
      ]
     },
     "execution_count": 34,
     "metadata": {},
     "output_type": "execute_result"
    }
   ],
   "source": [
    "tmp_test = stock_day_change[-2:,-5:]\n",
    "tmp_test[(tmp_test > 1) |(tmp_test < -1)]"
   ]
  },
  {
   "cell_type": "code",
   "execution_count": 37,
   "metadata": {
    "collapsed": false
   },
   "outputs": [
    {
     "data": {
      "text/plain": [
       "False"
      ]
     },
     "execution_count": 37,
     "metadata": {},
     "output_type": "execute_result"
    }
   ],
   "source": [
    "np.all(stock_day_change[:2,:5]>0)"
   ]
  },
  {
   "cell_type": "code",
   "execution_count": 38,
   "metadata": {
    "collapsed": false
   },
   "outputs": [
    {
     "data": {
      "text/plain": [
       "True"
      ]
     },
     "execution_count": 38,
     "metadata": {},
     "output_type": "execute_result"
    }
   ],
   "source": [
    "np.any(stock_day_change[:2,:5]>0)"
   ]
  },
  {
   "cell_type": "code",
   "execution_count": 43,
   "metadata": {
    "collapsed": false
   },
   "outputs": [
    {
     "data": {
      "text/plain": [
       "(200, 504)"
      ]
     },
     "execution_count": 43,
     "metadata": {},
     "output_type": "execute_result"
    }
   ],
   "source": [
    "stock_day_change.shape"
   ]
  },
  {
   "cell_type": "code",
   "execution_count": 47,
   "metadata": {
    "collapsed": false
   },
   "outputs": [
    {
     "name": "stdout",
     "output_type": "stream",
     "text": [
      "np1: [[ 1.38000455  0.18058772  0.21211613 -0.5359009  -0.11450511]\n",
      " [-0.41155034 -1.19898536 -0.09969371 -1.50525033  0.12189656]]\n",
      "np2: [[-0.84537274  0.15707293  1.42136492  1.10979337  0.95895085]\n",
      " [-0.2670522   0.88268425 -0.53953648  1.24257737 -1.68384141]]\n"
     ]
    },
    {
     "data": {
      "text/plain": [
       "array([[ 1.38000455,  0.18058772,  1.42136492,  1.10979337,  0.95895085],\n",
       "       [-0.2670522 ,  0.88268425, -0.09969371,  1.24257737,  0.12189656]])"
      ]
     },
     "execution_count": 47,
     "metadata": {},
     "output_type": "execute_result"
    }
   ],
   "source": [
    "print('np1:',stock_day_change[:2,:5])\n",
    "print('np2:',stock_day_change[-2:,-5:])\n",
    "np.maximum(stock_day_change[:2,:5],stock_day_change[-2:,-5:])"
   ]
  },
  {
   "cell_type": "code",
   "execution_count": 49,
   "metadata": {
    "collapsed": false
   },
   "outputs": [
    {
     "name": "stdout",
     "output_type": "stream",
     "text": [
      "[[ 1  0  0  0  0]\n",
      " [ 0 -1  0 -1  0]]\n"
     ]
    }
   ],
   "source": [
    "change_int = stock_day_change[:2,:5].astype(int)\n",
    "print(change_int)"
   ]
  },
  {
   "cell_type": "code",
   "execution_count": 50,
   "metadata": {
    "collapsed": false
   },
   "outputs": [
    {
     "data": {
      "text/plain": [
       "array([[-1.19941682,  0.03152841, -0.74801703,  0.42139579],\n",
       "       [-0.78743503,  1.09929166, -1.40555662,  1.62714689]])"
      ]
     },
     "execution_count": 50,
     "metadata": {},
     "output_type": "execute_result"
    }
   ],
   "source": [
    "np.diff(stock_day_change[:2,:5])"
   ]
  },
  {
   "cell_type": "code",
   "execution_count": 51,
   "metadata": {
    "collapsed": false
   },
   "outputs": [
    {
     "data": {
      "text/plain": [
       "array([[-1.79155488, -1.37957309, -0.31180984, -0.96934943,  0.23640167]])"
      ]
     },
     "execution_count": 51,
     "metadata": {},
     "output_type": "execute_result"
    }
   ],
   "source": [
    "np.diff(stock_day_change[:2,:5],axis=0)"
   ]
  },
  {
   "cell_type": "code",
   "execution_count": 52,
   "metadata": {
    "collapsed": false
   },
   "outputs": [
    {
     "data": {
      "text/plain": [
       "array([[-0.84537274,  0.15707293,  1.42136492,  1.10979337,  0.95895085],\n",
       "       [-0.2670522 ,  0.88268425, -0.53953648,  1.24257737, -1.68384141]])"
      ]
     },
     "execution_count": 52,
     "metadata": {},
     "output_type": "execute_result"
    }
   ],
   "source": [
    "tmp_test "
   ]
  },
  {
   "cell_type": "code",
   "execution_count": 53,
   "metadata": {
    "collapsed": false
   },
   "outputs": [
    {
     "data": {
      "text/plain": [
       "array([[0, 1, 1, 1, 1],\n",
       "       [0, 1, 0, 1, 0]])"
      ]
     },
     "execution_count": 53,
     "metadata": {},
     "output_type": "execute_result"
    }
   ],
   "source": [
    "np.where(tmp_test>0, 1, 0)"
   ]
  },
  {
   "cell_type": "code",
   "execution_count": 54,
   "metadata": {
    "collapsed": false
   },
   "outputs": [
    {
     "data": {
      "text/plain": [
       "array([[0, 0, 0, 0, 1],\n",
       "       [0, 1, 0, 0, 0]])"
      ]
     },
     "execution_count": 54,
     "metadata": {},
     "output_type": "execute_result"
    }
   ],
   "source": [
    "np.where(np.logical_and(tmp_test>0.5, tmp_test<1),1,0)"
   ]
  },
  {
   "cell_type": "code",
   "execution_count": 55,
   "metadata": {
    "collapsed": false
   },
   "outputs": [
    {
     "data": {
      "text/plain": [
       "array([[-0.84537274,  0.15707293,  1.42136492,  1.10979337,  0.95895085],\n",
       "       [-0.2670522 ,  0.88268425, -0.53953648,  1.24257737, -1.68384141]])"
      ]
     },
     "execution_count": 55,
     "metadata": {},
     "output_type": "execute_result"
    }
   ],
   "source": [
    "np.save('filename',tmp_test)\n",
    "np.load('filename.npy')"
   ]
  },
  {
   "cell_type": "markdown",
   "metadata": {},
   "source": [
    "# 統計值"
   ]
  },
  {
   "cell_type": "code",
   "execution_count": 56,
   "metadata": {
    "collapsed": false
   },
   "outputs": [
    {
     "data": {
      "text/plain": [
       "array([[ 1.38000455,  0.18058772,  0.21211613, -0.5359009 ],\n",
       "       [-0.41155034, -1.19898536, -0.09969371, -1.50525033],\n",
       "       [ 0.71869765,  0.12929549, -0.63355098,  0.75579835],\n",
       "       [ 1.36273151, -0.76876048, -0.32114841, -1.62665736]])"
      ]
     },
     "execution_count": 56,
     "metadata": {},
     "output_type": "execute_result"
    }
   ],
   "source": [
    "stock_day_change_four = stock_day_change[:4,:4]\n",
    "stock_day_change_four"
   ]
  },
  {
   "cell_type": "code",
   "execution_count": 60,
   "metadata": {
    "collapsed": false
   },
   "outputs": [
    {
     "name": "stdout",
     "output_type": "stream",
     "text": [
      "4天內最大漲幅 [ 1.38000455 -0.09969371  0.75579835  1.36273151]\n",
      "4天內最小漲幅 [-0.5359009  -1.50525033 -0.63355098 -1.62665736]\n",
      "4天內平均漲跌 [ 0.30920187 -0.80386994  0.24256013 -0.33845868]\n",
      "4天內振幅幅度 [ 1.38000455 -0.09969371  0.75579835  1.36273151]\n"
     ]
    }
   ],
   "source": [
    "print('4天內最大漲幅',np.max(stock_day_change_four,axis=1))\n",
    "print('4天內最小漲幅',np.min(stock_day_change_four,axis=1))\n",
    "print('4天內平均漲跌',np.mean(stock_day_change_four,axis=1))\n",
    "print('4天內振幅幅度',np.max(stock_day_change_four,axis=1))"
   ]
  },
  {
   "cell_type": "code",
   "execution_count": 66,
   "metadata": {
    "collapsed": false
   },
   "outputs": [
    {
     "data": {
      "text/plain": [
       "array([[  71.78655616],\n",
       "       [  60.70527614],\n",
       "       [  62.23394214],\n",
       "       [ 117.95850201],\n",
       "       [ 170.20984897],\n",
       "       [ 155.88556454],\n",
       "       [ 166.84969783],\n",
       "       [ 150.34761762],\n",
       "       [  75.81681305],\n",
       "       [ 116.24421177],\n",
       "       [ 109.16673989],\n",
       "       [ 103.89917094],\n",
       "       [ 155.54125118],\n",
       "       [  75.75197166],\n",
       "       [ 194.14102525],\n",
       "       [ 139.38671267],\n",
       "       [  99.93575617],\n",
       "       [  97.49820506],\n",
       "       [ 131.39713066],\n",
       "       [ 102.41104075],\n",
       "       [ 114.03946321],\n",
       "       [ 143.92327719],\n",
       "       [  86.25752105],\n",
       "       [  90.21176338],\n",
       "       [ 101.02644491],\n",
       "       [ 124.97580356],\n",
       "       [ 210.84533898],\n",
       "       [ 175.90559395],\n",
       "       [  78.66059287],\n",
       "       [ 110.88257029],\n",
       "       [ 225.49521058],\n",
       "       [  59.51827685],\n",
       "       [ 144.41017633],\n",
       "       [ 104.49646323],\n",
       "       [  47.30002994],\n",
       "       [ 131.74323208],\n",
       "       [ 166.99441192],\n",
       "       [ 108.36692934],\n",
       "       [ 136.09252885],\n",
       "       [  66.16444971],\n",
       "       [  94.88776463],\n",
       "       [ 117.72835289],\n",
       "       [   2.73037075],\n",
       "       [ 152.89450273],\n",
       "       [ 139.16137651],\n",
       "       [ 149.59745514],\n",
       "       [  64.38845539],\n",
       "       [  76.08247248],\n",
       "       [ 136.92061835],\n",
       "       [ 180.66393679],\n",
       "       [  73.26234601],\n",
       "       [ 130.27044395],\n",
       "       [  73.0379832 ],\n",
       "       [  11.38233481],\n",
       "       [ 125.0316969 ],\n",
       "       [  86.75931695],\n",
       "       [  21.46826683],\n",
       "       [ 140.83948294],\n",
       "       [ 100.10593993],\n",
       "       [  35.62878251],\n",
       "       [ 166.98443502],\n",
       "       [  95.15609708],\n",
       "       [  38.66896291],\n",
       "       [ 132.13721944],\n",
       "       [ 112.81544242],\n",
       "       [ 165.64138283],\n",
       "       [  80.29526873],\n",
       "       [ 154.34992405],\n",
       "       [  74.0857031 ],\n",
       "       [ -27.10040822],\n",
       "       [  61.58722186],\n",
       "       [  43.05577864],\n",
       "       [ 155.10301225],\n",
       "       [  -7.96530051],\n",
       "       [ 110.34384575],\n",
       "       [  81.04737193],\n",
       "       [ 155.90949435],\n",
       "       [  49.42527884],\n",
       "       [ 109.63297188],\n",
       "       [ 132.79873203],\n",
       "       [ 135.46763596],\n",
       "       [ 117.48349068],\n",
       "       [   2.82188073],\n",
       "       [ 162.20942828],\n",
       "       [  77.41649846],\n",
       "       [  97.27330647],\n",
       "       [ 112.64757124],\n",
       "       [ 118.70942924],\n",
       "       [   6.99526357],\n",
       "       [ 113.38932359],\n",
       "       [  92.25179535],\n",
       "       [  80.43096538],\n",
       "       [ 209.79642409],\n",
       "       [  44.35148561],\n",
       "       [  -1.58183923],\n",
       "       [ 105.25194372],\n",
       "       [ 206.2218096 ],\n",
       "       [ 129.97502024],\n",
       "       [  94.45327001],\n",
       "       [  76.32002018]])"
      ]
     },
     "execution_count": 66,
     "metadata": {},
     "output_type": "execute_result"
    }
   ],
   "source": [
    "np.random.normal(loc=100,scale=50,size=(100,1))"
   ]
  },
  {
   "cell_type": "code",
   "execution_count": null,
   "metadata": {
    "collapsed": true
   },
   "outputs": [],
   "source": []
  }
 ],
 "metadata": {
  "anaconda-cloud": {},
  "kernelspec": {
   "display_name": "Python [conda root]",
   "language": "python",
   "name": "conda-root-py"
  },
  "language_info": {
   "codemirror_mode": {
    "name": "ipython",
    "version": 3
   },
   "file_extension": ".py",
   "mimetype": "text/x-python",
   "name": "python",
   "nbconvert_exporter": "python",
   "pygments_lexer": "ipython3",
   "version": "3.5.2"
  }
 },
 "nbformat": 4,
 "nbformat_minor": 1
}

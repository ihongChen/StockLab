{
 "cells": [
  {
   "cell_type": "markdown",
   "metadata": {},
   "source": [
    "# Numpy 玩耍"
   ]
  },
  {
   "cell_type": "code",
   "execution_count": 1,
   "metadata": {
    "collapsed": true
   },
   "outputs": [],
   "source": [
    "import numpy as np "
   ]
  },
  {
   "cell_type": "code",
   "execution_count": 2,
   "metadata": {},
   "outputs": [
    {
     "name": "stdout",
     "output_type": "stream",
     "text": [
      "314 µs ± 3.1 µs per loop (mean ± std. dev. of 7 runs, 1000 loops each)\n"
     ]
    }
   ],
   "source": [
    "normal_lst = range(1000)\n",
    "%timeit [i**2 for i in normal_lst]"
   ]
  },
  {
   "cell_type": "code",
   "execution_count": 3,
   "metadata": {},
   "outputs": [
    {
     "name": "stdout",
     "output_type": "stream",
     "text": [
      "2.34 µs ± 16.1 ns per loop (mean ± std. dev. of 7 runs, 100000 loops each)\n"
     ]
    }
   ],
   "source": [
    "np_lst = np.arange(1000)\n",
    "%timeit np_lst**2"
   ]
  },
  {
   "cell_type": "code",
   "execution_count": 4,
   "metadata": {
    "collapsed": true
   },
   "outputs": [],
   "source": [
    "np_lst = np.ones(5)*3"
   ]
  },
  {
   "cell_type": "code",
   "execution_count": 5,
   "metadata": {},
   "outputs": [
    {
     "name": "stdout",
     "output_type": "stream",
     "text": [
      "[1, 1, 1, 1, 1, 1, 1, 1, 1, 1, 1, 1] 12\n"
     ]
    }
   ],
   "source": [
    "normal_lst = [1,1,1,1,]*3\n",
    "print(normal_lst, len(normal_lst))"
   ]
  },
  {
   "cell_type": "code",
   "execution_count": 6,
   "metadata": {},
   "outputs": [
    {
     "data": {
      "text/plain": [
       "array([ 0.,  0.,  0.])"
      ]
     },
     "execution_count": 6,
     "metadata": {},
     "output_type": "execute_result"
    }
   ],
   "source": [
    "np.zeros(3)"
   ]
  },
  {
   "cell_type": "code",
   "execution_count": 7,
   "metadata": {},
   "outputs": [
    {
     "data": {
      "text/plain": [
       "array([[ 0.,  0.],\n",
       "       [ 0.,  0.],\n",
       "       [ 0.,  0.]])"
      ]
     },
     "execution_count": 7,
     "metadata": {},
     "output_type": "execute_result"
    }
   ],
   "source": [
    "np.zeros((3,2))"
   ]
  },
  {
   "cell_type": "code",
   "execution_count": 8,
   "metadata": {},
   "outputs": [
    {
     "data": {
      "text/plain": [
       "array([[ 1.,  1.],\n",
       "       [ 1.,  1.],\n",
       "       [ 1.,  1.]])"
      ]
     },
     "execution_count": 8,
     "metadata": {},
     "output_type": "execute_result"
    }
   ],
   "source": [
    "np.ones((3,2))"
   ]
  },
  {
   "cell_type": "code",
   "execution_count": 9,
   "metadata": {},
   "outputs": [
    {
     "data": {
      "text/plain": [
       "array([[[  6.92731267e-310,   4.64524742e-310,   0.00000000e+000],\n",
       "        [  0.00000000e+000,   0.00000000e+000,   0.00000000e+000],\n",
       "        [  0.00000000e+000,   6.92730678e-310,   6.92730673e-310]],\n",
       "\n",
       "       [[  6.92730677e-310,   6.92731169e-310,   4.64524561e-310],\n",
       "        [  6.92730673e-310,   6.92730673e-310,   4.64524561e-310],\n",
       "        [  4.64524561e-310,   4.64524560e-310,   3.59098502e-306]]])"
      ]
     },
     "execution_count": 9,
     "metadata": {},
     "output_type": "execute_result"
    }
   ],
   "source": [
    "np.empty((2,3,3))"
   ]
  },
  {
   "cell_type": "code",
   "execution_count": 10,
   "metadata": {},
   "outputs": [
    {
     "data": {
      "text/plain": [
       "array([ 1.,  1.,  1.,  1.,  1.])"
      ]
     },
     "execution_count": 10,
     "metadata": {},
     "output_type": "execute_result"
    }
   ],
   "source": [
    "np.ones_like(np_lst)"
   ]
  },
  {
   "cell_type": "code",
   "execution_count": 11,
   "metadata": {},
   "outputs": [
    {
     "data": {
      "text/plain": [
       "array([ 0.,  0.,  0.,  0.,  0.])"
      ]
     },
     "execution_count": 11,
     "metadata": {},
     "output_type": "execute_result"
    }
   ],
   "source": [
    "np.zeros_like(np_lst)"
   ]
  },
  {
   "cell_type": "code",
   "execution_count": 12,
   "metadata": {},
   "outputs": [
    {
     "data": {
      "text/plain": [
       "array([ 0.        ,  0.11111111,  0.22222222,  0.33333333,  0.44444444,\n",
       "        0.55555556,  0.66666667,  0.77777778,  0.88888889,  1.        ])"
      ]
     },
     "execution_count": 12,
     "metadata": {},
     "output_type": "execute_result"
    }
   ],
   "source": [
    "np.linspace(0,1,10)"
   ]
  },
  {
   "cell_type": "code",
   "execution_count": 13,
   "metadata": {
    "collapsed": true
   },
   "outputs": [],
   "source": [
    "stock_cnt = 200\n",
    "view_days = 504\n",
    "stock_day_change = np.random.standard_normal((stock_cnt,view_days))"
   ]
  },
  {
   "cell_type": "code",
   "execution_count": 14,
   "metadata": {},
   "outputs": [
    {
     "name": "stdout",
     "output_type": "stream",
     "text": [
      "(200, 504)\n"
     ]
    }
   ],
   "source": [
    "print(stock_day_change.shape)"
   ]
  },
  {
   "cell_type": "code",
   "execution_count": 15,
   "metadata": {},
   "outputs": [
    {
     "data": {
      "text/plain": [
       "array([[ 0.21,  0.56, -0.59,  0.46, -1.18],\n",
       "       [-0.32, -0.81,  0.72, -0.19,  1.36]])"
      ]
     },
     "execution_count": 15,
     "metadata": {},
     "output_type": "execute_result"
    }
   ],
   "source": [
    "np.around(stock_day_change[:2,:5], 2)"
   ]
  },
  {
   "cell_type": "code",
   "execution_count": 16,
   "metadata": {
    "collapsed": true
   },
   "outputs": [],
   "source": [
    "tmp_test = stock_day_change[:2,:5].copy()\n",
    "tmp_test[0][0] = np.nan"
   ]
  },
  {
   "cell_type": "code",
   "execution_count": 17,
   "metadata": {},
   "outputs": [
    {
     "data": {
      "text/plain": [
       "array([[        nan,  0.55535094, -0.59143113,  0.461341  , -1.17844119],\n",
       "       [-0.31749473, -0.8119986 ,  0.71614576, -0.18895102,  1.36435956]])"
      ]
     },
     "execution_count": 17,
     "metadata": {},
     "output_type": "execute_result"
    }
   ],
   "source": [
    "tmp_test"
   ]
  },
  {
   "cell_type": "code",
   "execution_count": 18,
   "metadata": {
    "collapsed": true
   },
   "outputs": [],
   "source": [
    "mask = stock_day_change[:2,:5] >0.5"
   ]
  },
  {
   "cell_type": "code",
   "execution_count": 19,
   "metadata": {},
   "outputs": [
    {
     "name": "stdout",
     "output_type": "stream",
     "text": [
      "[[False  True False False False]\n",
      " [False False  True False  True]]\n"
     ]
    }
   ],
   "source": [
    "print(mask)"
   ]
  },
  {
   "cell_type": "code",
   "execution_count": 20,
   "metadata": {},
   "outputs": [
    {
     "data": {
      "text/plain": [
       "array([ 1.8207427 , -1.04140874, -2.1304528 ])"
      ]
     },
     "execution_count": 20,
     "metadata": {},
     "output_type": "execute_result"
    }
   ],
   "source": [
    "tmp_test = stock_day_change[-2:,-5:]\n",
    "tmp_test[(tmp_test > 1) |(tmp_test < -1)]"
   ]
  },
  {
   "cell_type": "code",
   "execution_count": 21,
   "metadata": {},
   "outputs": [
    {
     "data": {
      "text/plain": [
       "False"
      ]
     },
     "execution_count": 21,
     "metadata": {},
     "output_type": "execute_result"
    }
   ],
   "source": [
    "np.all(stock_day_change[:2,:5]>0)"
   ]
  },
  {
   "cell_type": "code",
   "execution_count": 22,
   "metadata": {},
   "outputs": [
    {
     "data": {
      "text/plain": [
       "True"
      ]
     },
     "execution_count": 22,
     "metadata": {},
     "output_type": "execute_result"
    }
   ],
   "source": [
    "np.any(stock_day_change[:2,:5]>0)"
   ]
  },
  {
   "cell_type": "code",
   "execution_count": 23,
   "metadata": {},
   "outputs": [
    {
     "data": {
      "text/plain": [
       "(200, 504)"
      ]
     },
     "execution_count": 23,
     "metadata": {},
     "output_type": "execute_result"
    }
   ],
   "source": [
    "stock_day_change.shape"
   ]
  },
  {
   "cell_type": "code",
   "execution_count": 24,
   "metadata": {},
   "outputs": [
    {
     "name": "stdout",
     "output_type": "stream",
     "text": [
      "np1: [[ 0.20977982  0.55535094 -0.59143113  0.461341   -1.17844119]\n",
      " [-0.31749473 -0.8119986   0.71614576 -0.18895102  1.36435956]]\n",
      "np2: [[-0.20513479  1.8207427   0.09639429 -0.84132015  0.08703548]\n",
      " [-1.04140874  0.29608069 -2.1304528  -0.36564215 -0.50961515]]\n"
     ]
    },
    {
     "data": {
      "text/plain": [
       "array([[ 0.20977982,  1.8207427 ,  0.09639429,  0.461341  ,  0.08703548],\n",
       "       [-0.31749473,  0.29608069,  0.71614576, -0.18895102,  1.36435956]])"
      ]
     },
     "execution_count": 24,
     "metadata": {},
     "output_type": "execute_result"
    }
   ],
   "source": [
    "print('np1:',stock_day_change[:2,:5])\n",
    "print('np2:',stock_day_change[-2:,-5:])\n",
    "np.maximum(stock_day_change[:2,:5],stock_day_change[-2:,-5:])"
   ]
  },
  {
   "cell_type": "code",
   "execution_count": 25,
   "metadata": {},
   "outputs": [
    {
     "name": "stdout",
     "output_type": "stream",
     "text": [
      "[[ 0  0  0  0 -1]\n",
      " [ 0  0  0  0  1]]\n"
     ]
    }
   ],
   "source": [
    "change_int = stock_day_change[:2,:5].astype(int)\n",
    "print(change_int)"
   ]
  },
  {
   "cell_type": "code",
   "execution_count": 26,
   "metadata": {},
   "outputs": [
    {
     "data": {
      "text/plain": [
       "array([[ 0.34557112, -1.14678207,  1.05277213, -1.63978219],\n",
       "       [-0.49450388,  1.52814436, -0.90509678,  1.55331058]])"
      ]
     },
     "execution_count": 26,
     "metadata": {},
     "output_type": "execute_result"
    }
   ],
   "source": [
    "np.diff(stock_day_change[:2,:5])"
   ]
  },
  {
   "cell_type": "code",
   "execution_count": 27,
   "metadata": {},
   "outputs": [
    {
     "data": {
      "text/plain": [
       "array([[-0.52727454, -1.36734954,  1.30757689, -0.65029202,  2.54280075]])"
      ]
     },
     "execution_count": 27,
     "metadata": {},
     "output_type": "execute_result"
    }
   ],
   "source": [
    "np.diff(stock_day_change[:2,:5],axis=0)"
   ]
  },
  {
   "cell_type": "code",
   "execution_count": 28,
   "metadata": {},
   "outputs": [
    {
     "data": {
      "text/plain": [
       "array([[-0.20513479,  1.8207427 ,  0.09639429, -0.84132015,  0.08703548],\n",
       "       [-1.04140874,  0.29608069, -2.1304528 , -0.36564215, -0.50961515]])"
      ]
     },
     "execution_count": 28,
     "metadata": {},
     "output_type": "execute_result"
    }
   ],
   "source": [
    "tmp_test "
   ]
  },
  {
   "cell_type": "code",
   "execution_count": 29,
   "metadata": {},
   "outputs": [
    {
     "data": {
      "text/plain": [
       "array([[0, 1, 1, 0, 1],\n",
       "       [0, 1, 0, 0, 0]])"
      ]
     },
     "execution_count": 29,
     "metadata": {},
     "output_type": "execute_result"
    }
   ],
   "source": [
    "np.where(tmp_test>0, 1, 0)"
   ]
  },
  {
   "cell_type": "code",
   "execution_count": 30,
   "metadata": {},
   "outputs": [
    {
     "data": {
      "text/plain": [
       "array([[0, 0, 0, 0, 0],\n",
       "       [0, 0, 0, 0, 0]])"
      ]
     },
     "execution_count": 30,
     "metadata": {},
     "output_type": "execute_result"
    }
   ],
   "source": [
    "np.where(np.logical_and(tmp_test>0.5, tmp_test<1),1,0)"
   ]
  },
  {
   "cell_type": "code",
   "execution_count": 31,
   "metadata": {},
   "outputs": [
    {
     "data": {
      "text/plain": [
       "array([[-0.20513479,  1.8207427 ,  0.09639429, -0.84132015,  0.08703548],\n",
       "       [-1.04140874,  0.29608069, -2.1304528 , -0.36564215, -0.50961515]])"
      ]
     },
     "execution_count": 31,
     "metadata": {},
     "output_type": "execute_result"
    }
   ],
   "source": [
    "np.save('filename',tmp_test)\n",
    "np.load('filename.npy')"
   ]
  },
  {
   "cell_type": "markdown",
   "metadata": {},
   "source": [
    "# 統計值"
   ]
  },
  {
   "cell_type": "code",
   "execution_count": 32,
   "metadata": {},
   "outputs": [
    {
     "data": {
      "text/plain": [
       "array([[ 0.20977982,  0.55535094, -0.59143113,  0.461341  ],\n",
       "       [-0.31749473, -0.8119986 ,  0.71614576, -0.18895102],\n",
       "       [-0.91541815,  0.73072165, -0.55382983,  1.19782172],\n",
       "       [ 0.11300971, -1.11097564, -0.38544977,  1.56461815]])"
      ]
     },
     "execution_count": 32,
     "metadata": {},
     "output_type": "execute_result"
    }
   ],
   "source": [
    "stock_day_change_four = stock_day_change[:4,:4]\n",
    "stock_day_change_four"
   ]
  },
  {
   "cell_type": "code",
   "execution_count": 33,
   "metadata": {},
   "outputs": [
    {
     "name": "stdout",
     "output_type": "stream",
     "text": [
      "4天內最大漲幅 [ 0.55535094  0.71614576  1.19782172  1.56461815]\n",
      "4天內最小漲幅 [-0.59143113 -0.8119986  -0.91541815 -1.11097564]\n",
      "4天內平均漲跌 [ 0.15876016 -0.15057465  0.11482385  0.04530061]\n",
      "4天內振幅幅度 [ 0.55535094  0.71614576  1.19782172  1.56461815]\n"
     ]
    }
   ],
   "source": [
    "print('4天內最大漲幅',np.max(stock_day_change_four,axis=1))\n",
    "print('4天內最小漲幅',np.min(stock_day_change_four,axis=1))\n",
    "print('4天內平均漲跌',np.mean(stock_day_change_four,axis=1))\n",
    "print('4天內振幅幅度',np.max(stock_day_change_four,axis=1))"
   ]
  },
  {
   "cell_type": "code",
   "execution_count": 34,
   "metadata": {
    "collapsed": true
   },
   "outputs": [],
   "source": [
    "a_investor = np.random.normal(loc=100,scale=50,size=(100,1))\n",
    "b_investor = np.random.normal(loc=100,scale=20, size=(100,1))"
   ]
  },
  {
   "cell_type": "code",
   "execution_count": 35,
   "metadata": {},
   "outputs": [
    {
     "data": {
      "text/plain": [
       "(103.32587426390961, 47.650835885371301, 2270.6021605745896)"
      ]
     },
     "execution_count": 35,
     "metadata": {},
     "output_type": "execute_result"
    }
   ],
   "source": [
    "a_investor.mean(),a_investor.std(),a_investor.var()"
   ]
  },
  {
   "cell_type": "code",
   "execution_count": 36,
   "metadata": {},
   "outputs": [
    {
     "data": {
      "text/plain": [
       "<matplotlib.lines.Line2D at 0x7f8512df0d68>"
      ]
     },
     "execution_count": 36,
     "metadata": {},
     "output_type": "execute_result"
    },
    {
     "data": {
      "image/png": "[encoded data removed]",
      "text/plain": [
       "<matplotlib.figure.Figure at 0x7f85286e64e0>"
      ]
     },
     "metadata": {},
     "output_type": "display_data"
    }
   ],
   "source": [
    "import matplotlib.pyplot as plt\n",
    "%matplotlib inline\n",
    "a_mean = a_investor.mean()\n",
    "a_std = a_investor.std()\n",
    "plt.plot(a_investor)\n",
    "plt.axhline(a_mean + a_std, color='r')\n",
    "plt.axhline(a_mean, color='y')\n",
    "plt.axhline(a_mean - a_std, color='r')"
   ]
  },
  {
   "cell_type": "markdown",
   "metadata": {},
   "source": [
    "# 常態分佈"
   ]
  },
  {
   "cell_type": "code",
   "execution_count": 37,
   "metadata": {
    "collapsed": true
   },
   "outputs": [],
   "source": [
    "import scipy.stats as scs"
   ]
  },
  {
   "cell_type": "code",
   "execution_count": 38,
   "metadata": {
    "collapsed": true
   },
   "outputs": [],
   "source": [
    "stock_mean = stock_day_change[0].mean()\n",
    "stock_std = stock_day_change[0].std()"
   ]
  },
  {
   "cell_type": "code",
   "execution_count": 39,
   "metadata": {},
   "outputs": [
    {
     "data": {
      "text/plain": [
       "[<matplotlib.lines.Line2D at 0x7f850aa25390>]"
      ]
     },
     "execution_count": 39,
     "metadata": {},
     "output_type": "execute_result"
    },
    {
     "data": {
      "image/png": "[encoded data removed]",
      "text/plain": [
       "<matplotlib.figure.Figure at 0x7f850ad6abe0>"
      ]
     },
     "metadata": {},
     "output_type": "display_data"
    }
   ],
   "source": [
    "plt.hist(stock_day_change[0],bins=50,normed=True)\n",
    "fit_linspace = np.linspace(stock_day_change[0].min(),stock_day_change[0].max())\n",
    "pdf = scs.norm(stock_mean,stock_std).pdf(fit_linspace)\n",
    "plt.plot(fit_linspace, pdf,lw=2,c='r')\n"
   ]
  },
  {
   "cell_type": "code",
   "execution_count": 40,
   "metadata": {},
   "outputs": [
    {
     "data": {
      "text/plain": [
       "200"
      ]
     },
     "execution_count": 40,
     "metadata": {},
     "output_type": "execute_result"
    }
   ],
   "source": [
    "stock_cnt"
   ]
  },
  {
   "cell_type": "code",
   "execution_count": 41,
   "metadata": {
    "collapsed": true
   },
   "outputs": [],
   "source": [
    "keep_days = 50\n",
    "view_days = 504"
   ]
  },
  {
   "cell_type": "code",
   "execution_count": 42,
   "metadata": {
    "collapsed": true
   },
   "outputs": [],
   "source": [
    "stock_day_change_test = stock_day_change[:stock_cnt,\n",
    "                                        0:view_days - keep_days]"
   ]
  },
  {
   "cell_type": "code",
   "execution_count": 43,
   "metadata": {
    "collapsed": true
   },
   "outputs": [],
   "source": [
    "stock_lower_array = np.argsort(np.sum(stock_day_change_test,axis=1))[:3]"
   ]
  },
  {
   "cell_type": "code",
   "execution_count": 44,
   "metadata": {},
   "outputs": [
    {
     "name": "stdout",
     "output_type": "stream",
     "text": [
      "max drop:[-50.56136427 -47.42085934 -45.44430594]\n",
      "corrs arg:[ 46   0 131]\n"
     ]
    }
   ],
   "source": [
    "print('max drop:{}'.format(np.sort(np.sum(stock_day_change_test,axis=1))[:3]))\n",
    "print('corrs arg:{}'.format(stock_lower_array))"
   ]
  },
  {
   "cell_type": "code",
   "execution_count": 45,
   "metadata": {
    "collapsed": true
   },
   "outputs": [],
   "source": [
    "def show_buy_lower(stock_ind):\n",
    "    \"\"\"\n",
    "    \"\"\"\n",
    "    _, axs = plt.subplots(nrows=1,ncols=2, figsize=(16,5))\n",
    "    axs[0].plot(np.arange(0,view_days - keep_days),\n",
    "              stock_day_change_test[stock_ind].cumsum())\n",
    "    cs_buy = stock_day_change[stock_ind][\n",
    "        view_days - keep_days:view_days].cumsum()\n",
    "    axs[1].plot(np.arange(view_days - keep_days, view_days), cs_buy)\n",
    "    return cs_buy[-1]"
   ]
  },
  {
   "cell_type": "code",
   "execution_count": null,
   "metadata": {
    "collapsed": true
   },
   "outputs": [],
   "source": []
  },
  {
   "cell_type": "code",
   "execution_count": 46,
   "metadata": {},
   "outputs": [
    {
     "data": {
      "image/png": "[encoded data removed]",
      "text/plain": [
       "<matplotlib.figure.Figure at 0x7f850a9967f0>"
      ]
     },
     "metadata": {},
     "output_type": "display_data"
    },
    {
     "data": {
      "image/png": "[encoded data removed]",
      "text/plain": [
       "<matplotlib.figure.Figure at 0x7f850a8bc860>"
      ]
     },
     "metadata": {},
     "output_type": "display_data"
    },
    {
     "data": {
      "image/png": "[encoded data removed]",
      "text/plain": [
       "<matplotlib.figure.Figure at 0x7f850a836f98>"
      ]
     },
     "metadata": {},
     "output_type": "display_data"
    }
   ],
   "source": [
    "profit = 0\n",
    "for s_ind in stock_lower_array:\n",
    "    profit += show_buy_lower(s_ind)"
   ]
  },
  {
   "cell_type": "code",
   "execution_count": 47,
   "metadata": {},
   "outputs": [
    {
     "data": {
      "text/plain": [
       "10.976710555324088"
      ]
     },
     "execution_count": 47,
     "metadata": {},
     "output_type": "execute_result"
    }
   ],
   "source": [
    "profit"
   ]
  },
  {
   "cell_type": "markdown",
   "metadata": {},
   "source": [
    "## Binomial"
   ]
  },
  {
   "cell_type": "code",
   "execution_count": 51,
   "metadata": {},
   "outputs": [
    {
     "data": {
      "text/plain": [
       "0"
      ]
     },
     "execution_count": 51,
     "metadata": {},
     "output_type": "execute_result"
    }
   ],
   "source": []
  },
  {
   "cell_type": "code",
   "execution_count": 61,
   "metadata": {
    "collapsed": true
   },
   "outputs": [],
   "source": [
    "gamblers = 100\n",
    "def casino(win_rate, win_once=1, loss_once=1, commission=0.01):\n",
    "    \"\"\"\n",
    "    賭場：假設每個賭徒有100萬元,並且每個賭徒在賭場玩1000萬次..\n",
    "    但是如果沒錢就無法玩了\n",
    "    win_rate: 輸贏的機率\n",
    "    win_once: 每次贏的金錢\n",
    "    loss_once:\n",
    "    commission: 手續費1%\n",
    "    \"\"\"\n",
    "    my_money = 10000\n",
    "    play_cnt = 100000\n",
    "    for _ in np.arange(0,play_cnt):\n",
    "        w = np.random.binomial(1, win_rate)\n",
    "        if w:\n",
    "            my_money += win_once\n",
    "        else:\n",
    "            my_money -= loss_once\n",
    "        \n",
    "        if my_money<0:\n",
    "            break\n",
    "    return my_money   "
   ]
  },
  {
   "cell_type": "code",
   "execution_count": 62,
   "metadata": {},
   "outputs": [
    {
     "data": {
      "text/plain": [
       "9696"
      ]
     },
     "execution_count": 62,
     "metadata": {},
     "output_type": "execute_result"
    }
   ],
   "source": [
    "casino(0.5)"
   ]
  },
  {
   "cell_type": "code",
   "execution_count": 63,
   "metadata": {},
   "outputs": [],
   "source": [
    "## 沒有手續費的天堂賭場\n",
    "heaven_moneys = [casino(0.5, commission=0) for _ in np.arange(0,gamblers)]\n",
    "cheat_moneys = [casino(0.4, commission=0) for _ in np.arange(0,gamblers)]\n",
    "commission_moneys = [casino(0.5, commission=0.01) for \n",
    "                     _ in np.arange(0,gamblers)]"
   ]
  },
  {
   "cell_type": "code",
   "execution_count": 65,
   "metadata": {},
   "outputs": [
    {
     "data": {
      "text/plain": [
       "(array([  1.,   0.,   0.,   0.,   0.,   1.,   1.,   0.,   0.,   1.,   2.,\n",
       "          3.,   3.,   2.,   4.,   5.,   9.,   8.,   7.,  13.,   8.,  13.,\n",
       "          3.,   3.,   3.,   4.,   1.,   3.,   1.,   1.]),\n",
       " array([  8858.        ,   8917.86666667,   8977.73333333,   9037.6       ,\n",
       "          9097.46666667,   9157.33333333,   9217.2       ,   9277.06666667,\n",
       "          9336.93333333,   9396.8       ,   9456.66666667,   9516.53333333,\n",
       "          9576.4       ,   9636.26666667,   9696.13333333,   9756.        ,\n",
       "          9815.86666667,   9875.73333333,   9935.6       ,   9995.46666667,\n",
       "         10055.33333333,  10115.2       ,  10175.06666667,  10234.93333333,\n",
       "         10294.8       ,  10354.66666667,  10414.53333333,  10474.4       ,\n",
       "         10534.26666667,  10594.13333333,  10654.        ]),\n",
       " <a list of 30 Patch objects>)"
      ]
     },
     "execution_count": 65,
     "metadata": {},
     "output_type": "execute_result"
    },
    {
     "data": {
      "image/png": "[encoded data removed]",
      "text/plain": [
       "<matplotlib.figure.Figure at 0x7f850a6b7a20>"
      ]
     },
     "metadata": {},
     "output_type": "display_data"
    }
   ],
   "source": [
    "plt.hist(heaven_moneys, bins=30)"
   ]
  },
  {
   "cell_type": "code",
   "execution_count": 66,
   "metadata": {},
   "outputs": [
    {
     "data": {
      "text/plain": [
       "(array([   0.,    0.,    0.,    0.,    0.,    0.,    0.,    0.,    0.,\n",
       "           0.,    0.,    0.,    0.,    0.,    0.,  100.,    0.,    0.,\n",
       "           0.,    0.,    0.,    0.,    0.,    0.,    0.,    0.,    0.,\n",
       "           0.,    0.,    0.]),\n",
       " array([-1.5       , -1.46666667, -1.43333333, -1.4       , -1.36666667,\n",
       "        -1.33333333, -1.3       , -1.26666667, -1.23333333, -1.2       ,\n",
       "        -1.16666667, -1.13333333, -1.1       , -1.06666667, -1.03333333,\n",
       "        -1.        , -0.96666667, -0.93333333, -0.9       , -0.86666667,\n",
       "        -0.83333333, -0.8       , -0.76666667, -0.73333333, -0.7       ,\n",
       "        -0.66666667, -0.63333333, -0.6       , -0.56666667, -0.53333333,\n",
       "        -0.5       ]),\n",
       " <a list of 30 Patch objects>)"
      ]
     },
     "execution_count": 66,
     "metadata": {},
     "output_type": "execute_result"
    },
    {
     "data": {
      "image/png": "[encoded data removed]",
      "text/plain": [
       "<matplotlib.figure.Figure at 0x7f850a35ce48>"
      ]
     },
     "metadata": {},
     "output_type": "display_data"
    }
   ],
   "source": [
    "plt.hist(cheat_moneys, bins=30)"
   ]
  },
  {
   "cell_type": "code",
   "execution_count": 67,
   "metadata": {},
   "outputs": [
    {
     "data": {
      "text/plain": [
       "(array([  4.,   0.,   5.,   2.,   1.,   6.,   5.,   8.,   8.,   4.,  12.,\n",
       "          7.,  11.,  10.,   3.,   3.,   3.,   1.,   1.,   3.,   1.,   1.,\n",
       "          0.,   0.,   0.,   0.,   0.,   0.,   0.,   1.]),\n",
       " array([  9356.        ,   9419.73333333,   9483.46666667,   9547.2       ,\n",
       "          9610.93333333,   9674.66666667,   9738.4       ,   9802.13333333,\n",
       "          9865.86666667,   9929.6       ,   9993.33333333,  10057.06666667,\n",
       "         10120.8       ,  10184.53333333,  10248.26666667,  10312.        ,\n",
       "         10375.73333333,  10439.46666667,  10503.2       ,  10566.93333333,\n",
       "         10630.66666667,  10694.4       ,  10758.13333333,  10821.86666667,\n",
       "         10885.6       ,  10949.33333333,  11013.06666667,  11076.8       ,\n",
       "         11140.53333333,  11204.26666667,  11268.        ]),\n",
       " <a list of 30 Patch objects>)"
      ]
     },
     "execution_count": 67,
     "metadata": {},
     "output_type": "execute_result"
    },
    {
     "data": {
      "image/png": "[encoded data removed]",
      "text/plain": [
       "<matplotlib.figure.Figure at 0x7f850a2715f8>"
      ]
     },
     "metadata": {},
     "output_type": "display_data"
    }
   ],
   "source": [
    "plt.hist(commission_moneys, bins=30)"
   ]
  },
  {
   "cell_type": "code",
   "execution_count": null,
   "metadata": {
    "collapsed": true
   },
   "outputs": [],
   "source": []
  }
 ],
 "metadata": {
  "anaconda-cloud": {},
  "kernelspec": {
   "display_name": "Python 3",
   "language": "python",
   "name": "python3"
  },
  "language_info": {
   "codemirror_mode": {
    "name": "ipython",
    "version": 3
   },
   "file_extension": ".py",
   "mimetype": "text/x-python",
   "name": "python",
   "nbconvert_exporter": "python",
   "pygments_lexer": "ipython3",
   "version": "3.6.3"
  }
 },
 "nbformat": 4,
 "nbformat_minor": 1
}

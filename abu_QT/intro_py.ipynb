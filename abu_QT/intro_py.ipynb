{
 "cells": [
  {
   "cell_type": "markdown",
   "metadata": {},
   "source": [
    "# 從股票學python"
   ]
  },
  {
   "cell_type": "markdown",
   "metadata": {},
   "source": [
    "## namedtuple"
   ]
  },
  {
   "cell_type": "code",
   "execution_count": 1,
   "metadata": {
    "collapsed": true
   },
   "outputs": [],
   "source": [
    "date_array = ['20170118','20170119','20170120','20170121','20170122']\n",
    "price_array = ['30.14','29.58','26.36','32.56','32.82']"
   ]
  },
  {
   "cell_type": "code",
   "execution_count": 2,
   "metadata": {
    "collapsed": true
   },
   "outputs": [],
   "source": [
    "from collections import namedtuple\n",
    "\n",
    "stock_namedtuple = namedtuple('stock',('date','price'))"
   ]
  },
  {
   "cell_type": "code",
   "execution_count": 3,
   "metadata": {},
   "outputs": [
    {
     "data": {
      "text/plain": [
       "__main__.stock"
      ]
     },
     "execution_count": 3,
     "metadata": {},
     "output_type": "execute_result"
    }
   ],
   "source": [
    "stock_namedtuple"
   ]
  },
  {
   "cell_type": "code",
   "execution_count": 4,
   "metadata": {
    "collapsed": true
   },
   "outputs": [],
   "source": [
    "stock_namedtuple_list = [stock_namedtuple(date,price) for date,price \n",
    "                        in zip(date_array,price_array)]"
   ]
  },
  {
   "cell_type": "code",
   "execution_count": 5,
   "metadata": {},
   "outputs": [
    {
     "data": {
      "text/plain": [
       "stock(date='20170118', price='30.14')"
      ]
     },
     "execution_count": 5,
     "metadata": {},
     "output_type": "execute_result"
    }
   ],
   "source": [
    "stock_namedtuple_list[0]"
   ]
  },
  {
   "cell_type": "code",
   "execution_count": 6,
   "metadata": {
    "collapsed": true
   },
   "outputs": [],
   "source": [
    "# namedtuple()"
   ]
  },
  {
   "cell_type": "markdown",
   "metadata": {},
   "source": [
    "# dict"
   ]
  },
  {
   "cell_type": "code",
   "execution_count": 7,
   "metadata": {
    "collapsed": true
   },
   "outputs": [],
   "source": [
    "stock_dict = {\n",
    "    date:price for date,price in zip(date_array,price_array)\n",
    "}"
   ]
  },
  {
   "cell_type": "code",
   "execution_count": 8,
   "metadata": {},
   "outputs": [
    {
     "data": {
      "text/plain": [
       "{'20170118': '30.14',\n",
       " '20170119': '29.58',\n",
       " '20170120': '26.36',\n",
       " '20170121': '32.56',\n",
       " '20170122': '32.82'}"
      ]
     },
     "execution_count": 8,
     "metadata": {},
     "output_type": "execute_result"
    }
   ],
   "source": [
    "stock_dict"
   ]
  },
  {
   "cell_type": "code",
   "execution_count": 9,
   "metadata": {},
   "outputs": [
    {
     "data": {
      "text/plain": [
       "dict_keys(['20170118', '20170119', '20170120', '20170121', '20170122'])"
      ]
     },
     "execution_count": 9,
     "metadata": {},
     "output_type": "execute_result"
    }
   ],
   "source": [
    "stock_dict.keys()"
   ]
  },
  {
   "cell_type": "code",
   "execution_count": 10,
   "metadata": {
    "collapsed": true
   },
   "outputs": [],
   "source": [
    "## ordered dict\n",
    "from collections import OrderedDict\n",
    "stock_dict = OrderedDict(\n",
    "    (date,price) for date,price in zip(date_array, price_array)\n",
    ")"
   ]
  },
  {
   "cell_type": "code",
   "execution_count": 11,
   "metadata": {},
   "outputs": [
    {
     "data": {
      "text/plain": [
       "odict_keys(['20170118', '20170119', '20170120', '20170121', '20170122'])"
      ]
     },
     "execution_count": 11,
     "metadata": {},
     "output_type": "execute_result"
    }
   ],
   "source": [
    "stock_dict.keys()"
   ]
  },
  {
   "cell_type": "markdown",
   "metadata": {
    "collapsed": true
   },
   "source": [
    "# function\n",
    "1. built-in\n",
    "2. lambda \n",
    "3. `map`,`reduce`,`filter`\n",
    "4. partial"
   ]
  },
  {
   "cell_type": "code",
   "execution_count": 12,
   "metadata": {},
   "outputs": [
    {
     "data": {
      "text/plain": [
       "[0, 1, 4, 9, 16, 25, 36, 49, 64, 81]"
      ]
     },
     "execution_count": 12,
     "metadata": {},
     "output_type": "execute_result"
    }
   ],
   "source": [
    "xx = map(lambda x:x**2, range(10)) ## return iter object\n",
    "[e for e in xx]"
   ]
  },
  {
   "cell_type": "code",
   "execution_count": 13,
   "metadata": {},
   "outputs": [
    {
     "data": {
      "text/plain": [
       "'20170118'"
      ]
     },
     "execution_count": 13,
     "metadata": {},
     "output_type": "execute_result"
    }
   ],
   "source": [
    "min(stock_dict)"
   ]
  },
  {
   "cell_type": "code",
   "execution_count": 14,
   "metadata": {},
   "outputs": [
    {
     "data": {
      "text/plain": [
       "('26.36', '20170120')"
      ]
     },
     "execution_count": 14,
     "metadata": {},
     "output_type": "execute_result"
    }
   ],
   "source": [
    "min(zip(stock_dict.values(), stock_dict.keys()))"
   ]
  },
  {
   "cell_type": "code",
   "execution_count": 15,
   "metadata": {},
   "outputs": [
    {
     "name": "stdout",
     "output_type": "stream",
     "text": [
      "('32.56', '20170121')\n"
     ]
    }
   ],
   "source": [
    "def find_second_max(dict_array):\n",
    "    stock_prices_sorted = sorted(\n",
    "        zip(dict_array.values(), dict_array.keys()))\n",
    "    return stock_prices_sorted[-2]\n",
    "\n",
    "if callable(find_second_max):\n",
    "    print(find_second_max(stock_dict))"
   ]
  },
  {
   "cell_type": "code",
   "execution_count": 16,
   "metadata": {
    "collapsed": true
   },
   "outputs": [],
   "source": [
    "## sort dict by value \n",
    "import operator\n",
    "sorted_dict = sorted(stock_dict.items(), key = operator.itemgetter(1))"
   ]
  },
  {
   "cell_type": "code",
   "execution_count": 17,
   "metadata": {},
   "outputs": [
    {
     "data": {
      "text/plain": [
       "[('20170120', '26.36'),\n",
       " ('20170119', '29.58'),\n",
       " ('20170118', '30.14'),\n",
       " ('20170121', '32.56'),\n",
       " ('20170122', '32.82')]"
      ]
     },
     "execution_count": 17,
     "metadata": {},
     "output_type": "execute_result"
    }
   ],
   "source": [
    "sorted_dict"
   ]
  },
  {
   "cell_type": "markdown",
   "metadata": {},
   "source": [
    "- `map`\n",
    "- `filter`\n",
    "- `reduce`(no longer in python3)"
   ]
  },
  {
   "cell_type": "code",
   "execution_count": 18,
   "metadata": {
    "collapsed": true
   },
   "outputs": [],
   "source": [
    "price_float_array = [float(price_str) for price_str in stock_dict.values()]\n",
    "pp_array = [\n",
    "    (price1,price2) for price1,price2 in zip(price_float_array[:-1],price_float_array[1:])\n",
    "]"
   ]
  },
  {
   "cell_type": "code",
   "execution_count": 19,
   "metadata": {},
   "outputs": [],
   "source": [
    "change_array = list(map(lambda e:round((e[1]-e[0])/e[0],3) ,pp_array))\n",
    "change_array.insert(0,0)"
   ]
  },
  {
   "cell_type": "code",
   "execution_count": 20,
   "metadata": {},
   "outputs": [
    {
     "data": {
      "text/plain": [
       "[0, -0.019, -0.109, 0.235, 0.008]"
      ]
     },
     "execution_count": 20,
     "metadata": {},
     "output_type": "execute_result"
    }
   ],
   "source": [
    "change_array"
   ]
  },
  {
   "cell_type": "code",
   "execution_count": 21,
   "metadata": {},
   "outputs": [],
   "source": [
    "stock_namedtuple = namedtuple('stock', ('date','price','change'))\n",
    "stock_dict = OrderedDict((date,stock_namedtuple(date, price, change)) for date, price, change in \n",
    "zip(date_array,price_array,change_array))"
   ]
  },
  {
   "cell_type": "code",
   "execution_count": 22,
   "metadata": {},
   "outputs": [],
   "source": [
    "up_days = list(filter(lambda day:day.change>0, stock_dict.values()))"
   ]
  },
  {
   "cell_type": "code",
   "execution_count": 23,
   "metadata": {},
   "outputs": [],
   "source": [
    "def filter_stock(stock_array_dict, want_up = True,\n",
    "                want_calc_sum = False):\n",
    "    if not isinstance(stock_array_dict, OrderedDict):\n",
    "        raise TypeError('stock_array_dict must be OrderedDict!')\n",
    "    filter_func = (lambda day:day.change > 0 ) \\\n",
    "        if want_up else (lambda day:day.change < 0 )\n",
    "    want_days = filter(filter_func, stock_array_dict.values())\n",
    "    \n",
    "    if not want_calc_sum:\n",
    "        return want_days\n",
    "    \n",
    "    change_sum = 0.0 \n",
    "    for day in want_days:\n",
    "        change_sum += day.change\n",
    "    return change_sum"
   ]
  },
  {
   "cell_type": "code",
   "execution_count": 24,
   "metadata": {},
   "outputs": [
    {
     "name": "stdout",
     "output_type": "stream",
     "text": [
      "-0.019\n",
      "-0.109\n"
     ]
    }
   ],
   "source": [
    "want_days = filter_stock(stock_dict,want_up = False)\n",
    "for day in want_days:\n",
    "    print(day.change)"
   ]
  },
  {
   "cell_type": "code",
   "execution_count": 25,
   "metadata": {},
   "outputs": [
    {
     "name": "stdout",
     "output_type": "stream",
     "text": [
      "上漲交易日的漲幅和:0.243\n"
     ]
    }
   ],
   "source": [
    "print('上漲交易日的漲幅和:{}'.format(filter_stock(stock_dict,want_calc_sum=True)))"
   ]
  },
  {
   "cell_type": "code",
   "execution_count": 26,
   "metadata": {},
   "outputs": [
    {
     "name": "stdout",
     "output_type": "stream",
     "text": [
      "上漲日:[stock(date='20170121', price='32.56', change=0.235), stock(date='20170122', price='32.82', change=0.008)]\n"
     ]
    }
   ],
   "source": [
    "print('上漲日:{}'.format(list(filter(lambda day:day.change >0, stock_dict.values()))))"
   ]
  },
  {
   "cell_type": "code",
   "execution_count": 27,
   "metadata": {
    "collapsed": true
   },
   "outputs": [],
   "source": [
    "from functools import partial"
   ]
  },
  {
   "cell_type": "code",
   "execution_count": 28,
   "metadata": {},
   "outputs": [
    {
     "name": "stdout",
     "output_type": "stream",
     "text": [
      "上漲日:\n",
      "[stock(date='20170121', price='32.56', change=0.235), stock(date='20170122', price='32.82', change=0.008)]\n",
      "下跌日:\n",
      "[stock(date='20170119', price='29.58', change=-0.019), stock(date='20170120', price='26.36', change=-0.109)]\n"
     ]
    }
   ],
   "source": [
    "filter_stock_up_days = partial(filter_stock,want_up=True,want_calc_sum=False)\n",
    "filter_stock_down_days = partial(filter_stock,want_up=False,want_calc_sum=False)\n",
    "filter_stock_up_sums = partial(filter_stock,want_up=True,want_calc_sum=True)\n",
    "filter_stock_down_sums = partial(filter_stock,want_up=False,want_calc_sum=True)\n",
    "print('上漲日:\\n{}'.format(list(filter_stock_up_days(stock_dict))))\n",
    "print('下跌日:\\n{}'.format(list(filter_stock_down_days(stock_dict))))\n"
   ]
  },
  {
   "cell_type": "markdown",
   "metadata": {},
   "source": [
    "# OO"
   ]
  },
  {
   "cell_type": "code",
   "execution_count": 29,
   "metadata": {
    "collapsed": true
   },
   "outputs": [],
   "source": [
    "from collections import namedtuple\n",
    "from collections import OrderedDict"
   ]
  },
  {
   "cell_type": "code",
   "execution_count": 44,
   "metadata": {},
   "outputs": [
    {
     "data": {
      "text/plain": [
       "['20170118', '20170119', '20170120', '20170121', '20170122']"
      ]
     },
     "execution_count": 44,
     "metadata": {},
     "output_type": "execute_result"
    }
   ],
   "source": []
  },
  {
   "cell_type": "code",
   "execution_count": 64,
   "metadata": {},
   "outputs": [],
   "source": [
    "class StockTradeDays:\n",
    "    def __init__(self, price_array, start_date, date_array = None):\n",
    "        ## private price array\n",
    "        self.__price_array = price_array\n",
    "        ## private date array\n",
    "        self.__date_array = self._init_days(start_date, date_array)\n",
    "        ## private stock change array\n",
    "        self.__change_array = self.__init_change()\n",
    "        ## Ordered Dict \n",
    "        self.stock_dict = self._init_stock_dict()\n",
    "    \n",
    "    def __init_change(self):\n",
    "        \"\"\"從price array生成change_array\n",
    "        \"\"\"\n",
    "        price_float_array = [float(price_str) for price_str in \n",
    "                             self.__price_array]\n",
    "        # 通過平移將錯開的收盤價格序列透過zip打包,每個元素為相鄰的兩個收盤價\n",
    "        pp_array = [(price1,price2) for price1,price2 in \n",
    "                   zip(price_float_array[:-1],price_float_array[1:])]\n",
    "        \n",
    "        change_array = list(\n",
    "            map(lambda e:round((e[1]-e[0])/e[0],3) ,pp_array)\n",
    "        )        \n",
    "        change_array.insert(0,0)\n",
    "        return change_array\n",
    "    \n",
    "    def _init_days(self, start_date, date_array):\n",
    "        \"\"\"protect方法\n",
    "        start_date : 初始日期\n",
    "        date_array : 給定日期序列\n",
    "        \"\"\"\n",
    "        if date_array is None:\n",
    "            ## 簡易（不正確?)由start_date & self.__price_array來確定日期序列\n",
    "            date_array = [str(start_date + ind) for ind, _ in \n",
    "                         enumerate(self.__price_array)]\n",
    "        else:\n",
    "            date_array = [str(date) for date in date_array]\n",
    "        return date_array\n",
    "    def print_private(self):\n",
    "        print('date_array:{},\\nprice_array:{},\\nchange_array:{}'.format(\n",
    "            self.__date_array,self.__price_array,self.__change_array))\n",
    "    def _init_stock_dict(self):\n",
    "        \"\"\"使用namedtuple, OrderDict將結果合併\n",
    "        \"\"\"\n",
    "        stock_namedtuple = namedtuple('stock',\n",
    "                                      ('date','price','change'))\n",
    "        \n",
    "        stock_dict = OrderedDict(\n",
    "            (date,stock_namedtuple(date, price, change)) \n",
    "            for date, price, change in \n",
    "            zip(self.__date_array, self.__price_array, \n",
    "                self.__change_array)\n",
    "        )\n",
    "                \n",
    "        return stock_dict\n",
    "    \n",
    "    def filter_stock(self, want_up=True, want_calc_sum=False):\n",
    "        \"\"\"篩選結果子集\n",
    "        params\n",
    "        ======\n",
    "        want_up : 是否上漲\n",
    "        want_calc_sum : 是否計算漲幅\n",
    "        \"\"\"\n",
    "        filter_func = (lambda day:day.change >0) if want_up else (\n",
    "            lambda day:day.change<0)\n",
    "        want_days = filter(filter_func, self.stock_dict.values())\n",
    "        \n",
    "        if not want_calc_sum:\n",
    "            return want_days\n",
    "        ## 計算漲幅\n",
    "        change_sum = 0.0 \n",
    "        for day in want_days:\n",
    "            change_sum += day.change\n",
    "            \n",
    "        return change_sum\n",
    "            \n",
    "    def __str__(self):\n",
    "        return str(self.stock_dict)\n",
    "        \n",
    "    __repr__  = __str__\n",
    "    \n",
    "    def __iter__(self):\n",
    "        for key in self.stock_dict:\n",
    "            yield self.stock_dict[key]\n",
    "        \n",
    "    \n",
    "    def __getitem__(self,ind):\n",
    "        date_key = self.__date_array[ind]\n",
    "        return self.stock_dict[date_key]\n",
    "    \n",
    "    def __len__(self):\n",
    "        return len(self.stock_dict)\n",
    "    \n",
    "        "
   ]
  },
  {
   "cell_type": "code",
   "execution_count": 77,
   "metadata": {},
   "outputs": [
    {
     "name": "stdout",
     "output_type": "stream",
     "text": [
      "OrderedDict([('20170101', stock(date='20170101', price='30.14', change=0)), ('20170102', stock(date='20170102', price='29.58', change=-0.019)), ('20170103', stock(date='20170103', price='26.36', change=-0.109)), ('20170104', stock(date='20170104', price='32.56', change=0.235)), ('20170105', stock(date='20170105', price='32.82', change=0.008))])\n"
     ]
    },
    {
     "data": {
      "text/plain": [
       "OrderedDict([('20170101', stock(date='20170101', price='30.14', change=0)), ('20170102', stock(date='20170102', price='29.58', change=-0.019)), ('20170103', stock(date='20170103', price='26.36', change=-0.109)), ('20170104', stock(date='20170104', price='32.56', change=0.235)), ('20170105', stock(date='20170105', price='32.82', change=0.008))])"
      ]
     },
     "execution_count": 77,
     "metadata": {},
     "output_type": "execute_result"
    }
   ],
   "source": [
    "trade_days = StockTradeDays(price_array,20170101)\n",
    "print(trade_days)\n",
    "trade_days"
   ]
  },
  {
   "cell_type": "code",
   "execution_count": 79,
   "metadata": {},
   "outputs": [
    {
     "name": "stdout",
     "output_type": "stream",
     "text": [
      "stock(date='20170101', price='30.14', change=0)\n",
      "stock(date='20170102', price='29.58', change=-0.019)\n",
      "stock(date='20170103', price='26.36', change=-0.109)\n",
      "stock(date='20170104', price='32.56', change=0.235)\n",
      "stock(date='20170105', price='32.82', change=0.008)\n"
     ]
    }
   ],
   "source": [
    "from collections import Iterable\n",
    "if isinstance(trade_days,Iterable):\n",
    "    for e in trade_days:\n",
    "        print(e)"
   ]
  },
  {
   "cell_type": "code",
   "execution_count": 81,
   "metadata": {},
   "outputs": [
    {
     "data": {
      "text/plain": [
       "[stock(date='20170104', price='32.56', change=0.235),\n",
       " stock(date='20170105', price='32.82', change=0.008)]"
      ]
     },
     "execution_count": 81,
     "metadata": {},
     "output_type": "execute_result"
    }
   ],
   "source": [
    "list(trade_days.filter_stock())"
   ]
  },
  {
   "cell_type": "code",
   "execution_count": 82,
   "metadata": {},
   "outputs": [
    {
     "data": {
      "text/plain": [
       "stock(date='20170105', price='32.82', change=0.008)"
      ]
     },
     "execution_count": 82,
     "metadata": {},
     "output_type": "execute_result"
    }
   ],
   "source": [
    "trade_days[-1]"
   ]
  },
  {
   "cell_type": "markdown",
   "metadata": {},
   "source": [
    "# 繼承"
   ]
  },
  {
   "cell_type": "markdown",
   "metadata": {},
   "source": [
    "通過ABC實現抽象類別,並且透過類型檢查來確定子類別實現了特定的方法"
   ]
  },
  {
   "cell_type": "code",
   "execution_count": 85,
   "metadata": {
    "collapsed": true
   },
   "outputs": [],
   "source": [
    "from abc import ABCMeta, abstractmethod"
   ]
  },
  {
   "cell_type": "code",
   "execution_count": 86,
   "metadata": {
    "collapsed": true
   },
   "outputs": [],
   "source": [
    "class TradeStrategyBase(metaclass=ABCMeta):\n",
    "    \"\"\"\n",
    "    交易策略的抽象類別\n",
    "    \"\"\"\n",
    "    @abstractmethod\n",
    "    def buy_strategy(self, *args, **kwargs):\n",
    "        pass\n",
    "    @abstractmethod\n",
    "    def sell_strategy(self, *args, **kwargs):\n",
    "        pass"
   ]
  },
  {
   "cell_type": "code",
   "execution_count": 87,
   "metadata": {
    "collapsed": true
   },
   "outputs": [],
   "source": [
    "class TradeStrategy1(TradeStrategyBase):\n",
    "    \"\"\"\n",
    "    交易策略1 : \n",
    "    =========\n",
    "    追漲策略,當股價上漲一個閥值（預設7%)\n",
    "    買入並持有s_keep_stock_threshold(20)天\n",
    "    \"\"\"\n",
    "    s_keep_stock_threshold = 20\n",
    "    def __init__(self):\n",
    "        self.keep_stock_day = 0 \n",
    "        ## 7%漲幅作為買入策略的閥值\n",
    "        self.__buy_change_threshold = 0.07\n",
    "        \n",
    "    def buy_strategy(self, trade_ind, trade_day, trade_days):\n",
    "        if self.keep_stock_day == 0 and \\\n",
    "            trade_day.change > self.__buy_change_threshold :\n",
    "                ## 如果上漲超過幅度，並且沒有持有則買入\n",
    "                self.keep_stock_day += 1\n",
    "        elif self.keep_stock_day > 0:\n",
    "            ## 持有股票,持有股票時間遞增\n",
    "            self.keep_stock_day +=1\n",
    "            \n",
    "    def sell_strategy(self, trade_ind, trade_day, trade_days):\n",
    "        if self.keep_stock_day >= \\\n",
    "            TradeStrategy1.s_keep_stock_threshold:\n",
    "                ## 若持有股票天數 > 閥值 s_keep_stock_threshold 則賣出\n",
    "                self.keep_stock_day = 0 \n",
    "    \n",
    "    @property\n",
    "    def buy_change_threshold(self):\n",
    "        return self.__buy_change_threshold\n",
    "    \n",
    "    @buy_change_threshold.setter\n",
    "    def buy_change_threshold(self, buy_change_threshold):\n",
    "        if not isinstance(buy_change_threshold, float):\n",
    "            raise TypeError('buy change threshold must be float!')\n",
    "        self.__buy_change_threshold = round(buy_change_threshold,2)\n",
    "    "
   ]
  },
  {
   "cell_type": "code",
   "execution_count": 92,
   "metadata": {
    "collapsed": true
   },
   "outputs": [],
   "source": [
    "class TradeLoopBack:\n",
    "    \"\"\"回測\"\"\"\n",
    "    def __init__(self, trade_days, trade_strategy):\n",
    "        \"\"\"\n",
    "        使用前面封裝的StockTradeDays和交易策略TradeStrategy\n",
    "        params\n",
    "        ======\n",
    "        trade_days : StockTradeDays 交易數據序列\n",
    "        trade_strategy : TradeStrategyBase 交易策略\n",
    "        \"\"\"\n",
    "        self.trade_days = trade_days\n",
    "        self.trade_strategy = trade_strategy \n",
    "        ## 交易盈虧序列\n",
    "        self.profit_array = []\n",
    "        \n",
    "    def execute_trade(self):\n",
    "        \"\"\"執行交易回測\"\"\"\n",
    "        for ind,day in enumerate(self.trade_days):\n",
    "            \"\"\"以時間驅動,完成交易回測\"\"\"\n",
    "            if self.trade_strategy.keep_stock_day > 0:\n",
    "                ## 如果持有股票,加入交易盈虧結果序列\n",
    "                self.profit_array.append(day.change)\n",
    "            #hasattr : 查詢object是否有實現某個方法\n",
    "            if hasattr(self.trade_strategy, 'buy_strategy'):\n",
    "                ## 買入策略\n",
    "                self.trade_strategy.buy_strategy(ind, day, \n",
    "                                                 self.trade_days)\n",
    "            if hasattr(self.trade_strategy, 'sell_strategy'):\n",
    "                ## 賣出策略\n",
    "                self.trade_strategy.sell_strategy(ind, day,\n",
    "                                                 self.trade_days)"
   ]
  },
  {
   "cell_type": "code",
   "execution_count": 93,
   "metadata": {
    "collapsed": true
   },
   "outputs": [],
   "source": [
    "trade_loop_back = TradeLoopBack(trade_days,TradeStrategy1())"
   ]
  },
  {
   "cell_type": "code",
   "execution_count": 94,
   "metadata": {
    "collapsed": true
   },
   "outputs": [],
   "source": [
    "trade_loop_back.execute_trade()"
   ]
  },
  {
   "cell_type": "code",
   "execution_count": 96,
   "metadata": {
    "collapsed": true
   },
   "outputs": [],
   "source": [
    "from functools import reduce"
   ]
  },
  {
   "cell_type": "code",
   "execution_count": 97,
   "metadata": {},
   "outputs": [
    {
     "data": {
      "text/plain": [
       "0.008"
      ]
     },
     "execution_count": 97,
     "metadata": {},
     "output_type": "execute_result"
    }
   ],
   "source": [
    "reduce(lambda a,b: a+b,trade_loop_back.profit_array)"
   ]
  },
  {
   "cell_type": "code",
   "execution_count": 115,
   "metadata": {
    "collapsed": true
   },
   "outputs": [],
   "source": [
    "class TradeStrategy2(TradeStrategyBase):\n",
    "    \"\"\"\n",
    "    交易策略2:\n",
    "    ========\n",
    "    均值回復策略當股價連續兩個交易日下跌,\n",
    "    且下跌幅度超過默認 s_buy_change_threshold(-10%)\n",
    "    買入並持有 s_keep_stock_threshold(10)天\n",
    "    \"\"\"\n",
    "    s_keep_stock_threshold = 10 #買入後持有N天\n",
    "    s_buy_change_threshold = -0.10 #下跌買入閥值\n",
    "    def __init__(self):\n",
    "        self.keep_stock_day = 0\n",
    "    def buy_strategy(self, trade_ind, trade_day, trade_days):\n",
    "        if self.keep_stock_day == 0 and trade_ind >= 1:\n",
    "            \"\"\"\n",
    "            當沒有持有股票的時候self.keep_stock_day == 0 並且\n",
    "            trade_ind >= 1, 不是交易開始的第一天, 因為需要前一天數據\n",
    "            \"\"\"\n",
    "            # trade_day.change < 0 bool:今天股價是否下跌\n",
    "            today_down = trade_day.change < 0 \n",
    "            yesterday_down = trade_days[trade_ind - 1].change < 0 \n",
    "            down_rate = trade_day.change + \\\n",
    "                trade_days[trade_ind - 1].change\n",
    "            if today_down and yesterday_down and down_rate < \\\n",
    "                TradeStrategy2.s_buy_change_threshold:\n",
    "                    # 買入條件成立\n",
    "                    self.keep_stock_day += 1\n",
    "        elif self.keep_stock_day > 0 :\n",
    "            # 代表持有股票,持有日數增加\n",
    "            self.keep_stock_day += 1\n",
    "    \n",
    "    def sell_strategy(self, trade_ind, trade_day, trade_days):\n",
    "        if self.keep_stock_day >= \\\n",
    "            TradeStrategy2.s_keep_stock_threshold:\n",
    "                self.keep_stock_day = 0\n",
    "    @classmethod\n",
    "    def set_keep_stock_threshold(cls, keep_stock_threshold):\n",
    "        cls.s_keep_stock_threshold = keep_stock_threshold\n",
    "    @staticmethod\n",
    "    def set_buy_change_threshold(buy_change_threshold):\n",
    "        TradeStrategy2.s_buy_change_threshold = buy_change_threshold"
   ]
  },
  {
   "cell_type": "code",
   "execution_count": 116,
   "metadata": {},
   "outputs": [],
   "source": [
    "trade_strategy2 = TradeStrategy2()"
   ]
  },
  {
   "cell_type": "code",
   "execution_count": 117,
   "metadata": {
    "collapsed": true
   },
   "outputs": [],
   "source": [
    "trade_loop_back = TradeLoopBack(trade_days, trade_strategy2)"
   ]
  },
  {
   "cell_type": "code",
   "execution_count": 119,
   "metadata": {},
   "outputs": [
    {
     "data": {
      "text/plain": [
       "[0.235, 0.008, 0, -0.019, -0.109, 0.235, 0.008]"
      ]
     },
     "execution_count": 119,
     "metadata": {},
     "output_type": "execute_result"
    }
   ],
   "source": [
    "trade_loop_back.execute_trade()\n",
    "trade_loop_back.profit_array"
   ]
  },
  {
   "cell_type": "code",
   "execution_count": 122,
   "metadata": {
    "collapsed": true
   },
   "outputs": [],
   "source": [
    "import matplotlib.pyplot as plt\n",
    "%matplotlib inline "
   ]
  },
  {
   "cell_type": "code",
   "execution_count": 125,
   "metadata": {},
   "outputs": [
    {
     "data": {
      "text/plain": [
       "[<matplotlib.lines.Line2D at 0x7f261a471b70>]"
      ]
     },
     "execution_count": 125,
     "metadata": {},
     "output_type": "execute_result"
    },
    {
     "data": {
      "image/png": "[encoded data removed]",
      "text/plain": [
       "<matplotlib.figure.Figure at 0x7f26219838d0>"
      ]
     },
     "metadata": {},
     "output_type": "display_data"
    }
   ],
   "source": [
    "plt.plot(np.array(trade_loop_back.profit_array).cumsum())"
   ]
  },
  {
   "cell_type": "code",
   "execution_count": 126,
   "metadata": {
    "collapsed": true
   },
   "outputs": [],
   "source": [
    "trade_strategy2 = TradeStrategy2()\n",
    "TradeStrategy2.set_keep_stock_threshold(20)\n",
    "TradeStrategy2.set_buy_change_threshold(-0.08)"
   ]
  },
  {
   "cell_type": "code",
   "execution_count": 127,
   "metadata": {
    "collapsed": true
   },
   "outputs": [],
   "source": [
    "trade_loop_back = TradeLoopBack(trade_days, trade_strategy2)"
   ]
  },
  {
   "cell_type": "code",
   "execution_count": 128,
   "metadata": {
    "collapsed": true
   },
   "outputs": [],
   "source": [
    "trade_loop_back.execute_trade()"
   ]
  },
  {
   "cell_type": "code",
   "execution_count": 134,
   "metadata": {},
   "outputs": [
    {
     "data": {
      "text/plain": [
       "[<matplotlib.lines.Line2D at 0x7f261a3a2860>]"
      ]
     },
     "execution_count": 134,
     "metadata": {},
     "output_type": "execute_result"
    },
    {
     "data": {
      "image/png": "[encoded data removed]",
      "text/plain": [
       "<matplotlib.figure.Figure at 0x7f261a4850f0>"
      ]
     },
     "metadata": {},
     "output_type": "display_data"
    }
   ],
   "source": [
    "plt.plot(np.array(trade_loop_back.profit_array).cumsum())"
   ]
  }
 ],
 "metadata": {
  "kernelspec": {
   "display_name": "Python 3",
   "language": "python",
   "name": "python3"
  },
  "language_info": {
   "codemirror_mode": {
    "name": "ipython",
    "version": 3
   },
   "file_extension": ".py",
   "mimetype": "text/x-python",
   "name": "python",
   "nbconvert_exporter": "python",
   "pygments_lexer": "ipython3",
   "version": "3.6.3"
  }
 },
 "nbformat": 4,
 "nbformat_minor": 2
}
